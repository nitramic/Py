{
 "cells": [
  {
   "cell_type": "markdown",
   "metadata": {},
   "source": [
    "Inicio de Verificacion de Valor BTC\n",
    "https://www.youtube.com/watch?v=aupKjMm1Hp8"
   ]
  },
  {
   "cell_type": "code",
   "execution_count": 1,
   "metadata": {},
   "outputs": [
    {
     "name": "stdout",
     "output_type": "stream",
     "text": [
      "Defaulting to user installation because normal site-packages is not writeable\n",
      "Requirement already satisfied: ccxt in /home/user/.local/lib/python3.10/site-packages (4.0.75)\n",
      "Requirement already satisfied: setuptools>=60.9.0 in /home/user/.local/lib/python3.10/site-packages (from ccxt) (68.1.2)\n",
      "Requirement already satisfied: aiodns>=1.1.1 in /home/user/.local/lib/python3.10/site-packages (from ccxt) (3.0.0)\n",
      "Requirement already satisfied: yarl>=1.7.2 in /home/user/.local/lib/python3.10/site-packages (from ccxt) (1.9.2)\n",
      "Requirement already satisfied: certifi>=2018.1.18 in /usr/lib/python3/dist-packages (from ccxt) (2020.6.20)\n",
      "Requirement already satisfied: requests>=2.18.4 in /usr/lib/python3/dist-packages (from ccxt) (2.25.1)\n",
      "Requirement already satisfied: cryptography>=2.6.1 in /usr/lib/python3/dist-packages (from ccxt) (3.4.8)\n",
      "Requirement already satisfied: aiohttp>=3.8 in /home/user/.local/lib/python3.10/site-packages (from ccxt) (3.8.5)\n",
      "Requirement already satisfied: pycares>=4.0.0 in /home/user/.local/lib/python3.10/site-packages (from aiodns>=1.1.1->ccxt) (4.3.0)\n",
      "Requirement already satisfied: frozenlist>=1.1.1 in /home/user/.local/lib/python3.10/site-packages (from aiohttp>=3.8->ccxt) (1.4.0)\n",
      "Requirement already satisfied: aiosignal>=1.1.2 in /home/user/.local/lib/python3.10/site-packages (from aiohttp>=3.8->ccxt) (1.3.1)\n",
      "Requirement already satisfied: async-timeout<5.0,>=4.0.0a3 in /home/user/.local/lib/python3.10/site-packages (from aiohttp>=3.8->ccxt) (4.0.3)\n",
      "Requirement already satisfied: attrs>=17.3.0 in /usr/lib/python3/dist-packages (from aiohttp>=3.8->ccxt) (21.2.0)\n",
      "Requirement already satisfied: charset-normalizer<4.0,>=2.0 in /home/user/.local/lib/python3.10/site-packages (from aiohttp>=3.8->ccxt) (3.2.0)\n",
      "Requirement already satisfied: multidict<7.0,>=4.5 in /home/user/.local/lib/python3.10/site-packages (from aiohttp>=3.8->ccxt) (6.0.4)\n",
      "Requirement already satisfied: idna>=2.0 in /usr/lib/python3/dist-packages (from yarl>=1.7.2->ccxt) (3.3)\n",
      "Requirement already satisfied: cffi>=1.5.0 in /home/user/.local/lib/python3.10/site-packages (from pycares>=4.0.0->aiodns>=1.1.1->ccxt) (1.15.1)\n",
      "Requirement already satisfied: pycparser in /home/user/.local/lib/python3.10/site-packages (from cffi>=1.5.0->pycares>=4.0.0->aiodns>=1.1.1->ccxt) (2.21)\n",
      "Note: you may need to restart the kernel to use updated packages.\n"
     ]
    }
   ],
   "source": [
    "pip install ccxt"
   ]
  },
  {
   "cell_type": "code",
   "execution_count": 2,
   "metadata": {},
   "outputs": [],
   "source": [
    "import time\n",
    "import ccxt"
   ]
  },
  {
   "cell_type": "code",
   "execution_count": 3,
   "metadata": {},
   "outputs": [],
   "source": [
    "exchange = ccxt.binance({})"
   ]
  },
  {
   "cell_type": "code",
   "execution_count": 4,
   "metadata": {},
   "outputs": [
    {
     "data": {
      "text/plain": [
       "{'symbol': 'BTC/USDT',\n",
       " 'timestamp': 1693156610373,\n",
       " 'datetime': '2023-08-27T17:16:50.373Z',\n",
       " 'high': 26182.23,\n",
       " 'low': 25966.11,\n",
       " 'bid': 26164.29,\n",
       " 'bidVolume': 2.89562,\n",
       " 'ask': 26164.3,\n",
       " 'askVolume': 32.16967,\n",
       " 'vwap': 26063.94104967,\n",
       " 'open': 26021.99,\n",
       " 'close': 26164.29,\n",
       " 'last': 26164.29,\n",
       " 'previousClose': 26021.99,\n",
       " 'change': 142.3,\n",
       " 'percentage': 0.547,\n",
       " 'average': 26093.14,\n",
       " 'baseVolume': 11592.47104,\n",
       " 'quoteVolume': 302145481.8065288,\n",
       " 'info': {'symbol': 'BTCUSDT',\n",
       "  'priceChange': '142.30000000',\n",
       "  'priceChangePercent': '0.547',\n",
       "  'weightedAvgPrice': '26063.94104967',\n",
       "  'prevClosePrice': '26021.99000000',\n",
       "  'lastPrice': '26164.29000000',\n",
       "  'lastQty': '0.00047000',\n",
       "  'bidPrice': '26164.29000000',\n",
       "  'bidQty': '2.89562000',\n",
       "  'askPrice': '26164.30000000',\n",
       "  'askQty': '32.16967000',\n",
       "  'openPrice': '26021.99000000',\n",
       "  'highPrice': '26182.23000000',\n",
       "  'lowPrice': '25966.11000000',\n",
       "  'volume': '11592.47104000',\n",
       "  'quoteVolume': '302145481.80652880',\n",
       "  'openTime': '1693070210373',\n",
       "  'closeTime': '1693156610373',\n",
       "  'firstId': '3199532636',\n",
       "  'lastId': '3199872376',\n",
       "  'count': '339741'}}"
      ]
     },
     "execution_count": 4,
     "metadata": {},
     "output_type": "execute_result"
    }
   ],
   "source": [
    "#Consutla de Ticker BTC\n",
    "exchange.fetchTicker('BTC/USDT')"
   ]
  },
  {
   "cell_type": "code",
   "execution_count": 5,
   "metadata": {},
   "outputs": [
    {
     "data": {
      "text/plain": [
       "26164.29"
      ]
     },
     "execution_count": 5,
     "metadata": {},
     "output_type": "execute_result"
    }
   ],
   "source": [
    "#Consulta de Ticker, solo parametro 'last' para saber el ultimo precio\n",
    "exchange.fetchTicker('BTC/USDT')['last']"
   ]
  },
  {
   "cell_type": "code",
   "execution_count": 6,
   "metadata": {},
   "outputs": [
    {
     "data": {
      "text/plain": [
       "1657.96"
      ]
     },
     "execution_count": 6,
     "metadata": {},
     "output_type": "execute_result"
    }
   ],
   "source": [
    "exchange.fetchTicker('ETH/USDT')['last']"
   ]
  },
  {
   "cell_type": "code",
   "execution_count": 7,
   "metadata": {},
   "outputs": [
    {
     "data": {
      "text/plain": [
       "0.06318"
      ]
     },
     "execution_count": 7,
     "metadata": {},
     "output_type": "execute_result"
    }
   ],
   "source": [
    "exchange.fetchTicker('DOGE/USDT')['last']"
   ]
  },
  {
   "cell_type": "code",
   "execution_count": 8,
   "metadata": {},
   "outputs": [
    {
     "name": "stdout",
     "output_type": "stream",
     "text": [
      "precio:  26164.23\n"
     ]
    }
   ],
   "source": [
    "p_actual = exchange.fetchTicker('BTC/USDT')['last']\n",
    "print (\"precio: \", p_actual)"
   ]
  }
 ],
 "metadata": {
  "kernelspec": {
   "display_name": "Python 3",
   "language": "python",
   "name": "python3"
  },
  "language_info": {
   "codemirror_mode": {
    "name": "ipython",
    "version": 3
   },
   "file_extension": ".py",
   "mimetype": "text/x-python",
   "name": "python",
   "nbconvert_exporter": "python",
   "pygments_lexer": "ipython3",
   "version": "3.10.12"
  },
  "orig_nbformat": 4
 },
 "nbformat": 4,
 "nbformat_minor": 2
}
