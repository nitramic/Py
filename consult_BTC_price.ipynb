{
 "cells": [
  {
   "cell_type": "markdown",
   "metadata": {},
   "source": [
    "Inicio de Verificacion de Valor BTC\n",
    "https://www.youtube.com/watch?v=aupKjMm1Hp8"
   ]
  },
  {
   "cell_type": "code",
   "execution_count": 1,
   "metadata": {},
   "outputs": [
    {
     "name": "stdout",
     "output_type": "stream",
     "text": [
      "Defaulting to user installation because normal site-packages is not writeable\n",
      "Requirement already satisfied: ccxt in /home/user/.local/lib/python3.10/site-packages (4.0.75)\n",
      "Requirement already satisfied: setuptools>=60.9.0 in /home/user/.local/lib/python3.10/site-packages (from ccxt) (68.1.2)\n",
      "Requirement already satisfied: yarl>=1.7.2 in /home/user/.local/lib/python3.10/site-packages (from ccxt) (1.9.2)\n",
      "Requirement already satisfied: certifi>=2018.1.18 in /usr/lib/python3/dist-packages (from ccxt) (2020.6.20)\n",
      "Requirement already satisfied: aiodns>=1.1.1 in /home/user/.local/lib/python3.10/site-packages (from ccxt) (3.0.0)\n",
      "Requirement already satisfied: aiohttp>=3.8 in /home/user/.local/lib/python3.10/site-packages (from ccxt) (3.8.5)\n",
      "Requirement already satisfied: requests>=2.18.4 in /usr/lib/python3/dist-packages (from ccxt) (2.25.1)\n",
      "Requirement already satisfied: cryptography>=2.6.1 in /usr/lib/python3/dist-packages (from ccxt) (3.4.8)\n",
      "Requirement already satisfied: pycares>=4.0.0 in /home/user/.local/lib/python3.10/site-packages (from aiodns>=1.1.1->ccxt) (4.3.0)\n",
      "Requirement already satisfied: charset-normalizer<4.0,>=2.0 in /home/user/.local/lib/python3.10/site-packages (from aiohttp>=3.8->ccxt) (3.2.0)\n",
      "Requirement already satisfied: aiosignal>=1.1.2 in /home/user/.local/lib/python3.10/site-packages (from aiohttp>=3.8->ccxt) (1.3.1)\n",
      "Requirement already satisfied: attrs>=17.3.0 in /usr/lib/python3/dist-packages (from aiohttp>=3.8->ccxt) (21.2.0)\n",
      "Requirement already satisfied: frozenlist>=1.1.1 in /home/user/.local/lib/python3.10/site-packages (from aiohttp>=3.8->ccxt) (1.4.0)\n",
      "Requirement already satisfied: multidict<7.0,>=4.5 in /home/user/.local/lib/python3.10/site-packages (from aiohttp>=3.8->ccxt) (6.0.4)\n",
      "Requirement already satisfied: async-timeout<5.0,>=4.0.0a3 in /home/user/.local/lib/python3.10/site-packages (from aiohttp>=3.8->ccxt) (4.0.3)\n",
      "Requirement already satisfied: idna>=2.0 in /usr/lib/python3/dist-packages (from yarl>=1.7.2->ccxt) (3.3)\n",
      "Requirement already satisfied: cffi>=1.5.0 in /home/user/.local/lib/python3.10/site-packages (from pycares>=4.0.0->aiodns>=1.1.1->ccxt) (1.15.1)\n",
      "Requirement already satisfied: pycparser in /home/user/.local/lib/python3.10/site-packages (from cffi>=1.5.0->pycares>=4.0.0->aiodns>=1.1.1->ccxt) (2.21)\n",
      "Note: you may need to restart the kernel to use updated packages.\n"
     ]
    }
   ],
   "source": [
    "pip install ccxt"
   ]
  },
  {
   "cell_type": "code",
   "execution_count": 2,
   "metadata": {},
   "outputs": [],
   "source": [
    "import time\n",
    "import ccxt"
   ]
  },
  {
   "cell_type": "code",
   "execution_count": 3,
   "metadata": {},
   "outputs": [],
   "source": [
    "exchange = ccxt.binance({})"
   ]
  },
  {
   "cell_type": "code",
   "execution_count": 4,
   "metadata": {},
   "outputs": [
    {
     "data": {
      "text/plain": [
       "{'symbol': 'BTC/USDT',\n",
       " 'timestamp': 1693089815976,\n",
       " 'datetime': '2023-08-26T22:43:35.976Z',\n",
       " 'high': 26125.77,\n",
       " 'low': 25985.92,\n",
       " 'bid': 26039.11,\n",
       " 'bidVolume': 0.73446,\n",
       " 'ask': 26039.12,\n",
       " 'askVolume': 7.83034,\n",
       " 'vwap': 26048.17871052,\n",
       " 'open': 26049.33,\n",
       " 'close': 26039.11,\n",
       " 'last': 26039.11,\n",
       " 'previousClose': 26049.33,\n",
       " 'change': -10.22,\n",
       " 'percentage': -0.039,\n",
       " 'average': 26044.22,\n",
       " 'baseVolume': 9950.73275,\n",
       " 'quoteVolume': 259198464.9726276,\n",
       " 'info': {'symbol': 'BTCUSDT',\n",
       "  'priceChange': '-10.22000000',\n",
       "  'priceChangePercent': '-0.039',\n",
       "  'weightedAvgPrice': '26048.17871052',\n",
       "  'prevClosePrice': '26049.33000000',\n",
       "  'lastPrice': '26039.11000000',\n",
       "  'lastQty': '0.28237000',\n",
       "  'bidPrice': '26039.11000000',\n",
       "  'bidQty': '0.73446000',\n",
       "  'askPrice': '26039.12000000',\n",
       "  'askQty': '7.83034000',\n",
       "  'openPrice': '26049.33000000',\n",
       "  'highPrice': '26125.77000000',\n",
       "  'lowPrice': '25985.92000000',\n",
       "  'volume': '9950.73275000',\n",
       "  'quoteVolume': '259198464.97262760',\n",
       "  'openTime': '1693003415976',\n",
       "  'closeTime': '1693089815976',\n",
       "  'firstId': '3199269991',\n",
       "  'lastId': '3199602232',\n",
       "  'count': '332242'}}"
      ]
     },
     "execution_count": 4,
     "metadata": {},
     "output_type": "execute_result"
    }
   ],
   "source": [
    "#Consutla de Ticker BTC\n",
    "exchange.fetchTicker('BTC/USDT')"
   ]
  },
  {
   "cell_type": "code",
   "execution_count": 23,
   "metadata": {},
   "outputs": [
    {
     "data": {
      "text/plain": [
       "26039.1"
      ]
     },
     "execution_count": 23,
     "metadata": {},
     "output_type": "execute_result"
    }
   ],
   "source": [
    "#Consulta de Ticker, solo parametro 'last' para saber el ultimo precio\n",
    "exchange.fetchTicker('BTC/USDT')['last']"
   ]
  },
  {
   "cell_type": "code",
   "execution_count": 24,
   "metadata": {},
   "outputs": [
    {
     "data": {
      "text/plain": [
       "1648.33"
      ]
     },
     "execution_count": 24,
     "metadata": {},
     "output_type": "execute_result"
    }
   ],
   "source": [
    "exchange.fetchTicker('ETH/USDT')['last']"
   ]
  },
  {
   "cell_type": "code",
   "execution_count": 25,
   "metadata": {},
   "outputs": [
    {
     "data": {
      "text/plain": [
       "0.06292"
      ]
     },
     "execution_count": 25,
     "metadata": {},
     "output_type": "execute_result"
    }
   ],
   "source": [
    "exchange.fetchTicker('DOGE/USDT')['last']"
   ]
  },
  {
   "cell_type": "code",
   "execution_count": 30,
   "metadata": {},
   "outputs": [
    {
     "name": "stdout",
     "output_type": "stream",
     "text": [
      "precio:  26031.15\n"
     ]
    }
   ],
   "source": [
    "p_actual = exchange.fetchTicker('BTC/USDT')['last']\n",
    "print (\"precio: \", p_actual)"
   ]
  }
 ],
 "metadata": {
  "kernelspec": {
   "display_name": "Python 3",
   "language": "python",
   "name": "python3"
  },
  "language_info": {
   "codemirror_mode": {
    "name": "ipython",
    "version": 3
   },
   "file_extension": ".py",
   "mimetype": "text/x-python",
   "name": "python",
   "nbconvert_exporter": "python",
   "pygments_lexer": "ipython3",
   "version": "3.10.12"
  },
  "orig_nbformat": 4
 },
 "nbformat": 4,
 "nbformat_minor": 2
}
